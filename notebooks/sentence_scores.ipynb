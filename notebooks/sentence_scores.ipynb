{
 "cells": [
  {
   "cell_type": "code",
   "execution_count": 1,
   "id": "monthly-burden",
   "metadata": {},
   "outputs": [],
   "source": [
    "import os \n",
    "os.chdir(os.environ['PYTHONPATH'])"
   ]
  },
  {
   "cell_type": "code",
   "execution_count": 2,
   "id": "mathematical-diploma",
   "metadata": {},
   "outputs": [],
   "source": [
    "from nltk.lm.models import Lidstone, KneserNeyInterpolated\n",
    "\n",
    "from code.model_selection import get_train_set, LMDef\n",
    "from code.sentence_scores import kfold_score_generated_sentences, plot_pandas"
   ]
  },
  {
   "cell_type": "code",
   "execution_count": 3,
   "id": "spoken-encyclopedia",
   "metadata": {},
   "outputs": [],
   "source": [
    "# for each order (2, 3, 4) and model type (Lidstone, Kneser-Ney) we have \n",
    "# the hyperparameters which minimize entropy on cross-validation test sets.\n",
    "\n",
    "# out of these models we want to pick the one that generates the \"best\" \n",
    "# sentences. yes this is totally subjective to me! ha ha \n",
    "\n",
    "best_model_defs = [\n",
    "    LMDef(Lidstone, [0.0040, 2]),\n",
    "    LMDef(Lidstone, [0.0006, 3]),\n",
    "    LMDef(Lidstone, [0.0002, 4]),\n",
    "    LMDef(KneserNeyInterpolated, [2], {'discount': 0.50}),\n",
    "    LMDef(KneserNeyInterpolated, [3], {'discount': 0.44}),\n",
    "    LMDef(KneserNeyInterpolated, [4], {'discount': 0.28}),\n",
    "]\n",
    "\n",
    "\n",
    "score_filename = 'data/sentence_scores/model_{}_fold_{}.txt'\n"
   ]
  },
  {
   "cell_type": "code",
   "execution_count": 4,
   "id": "partial-annual",
   "metadata": {},
   "outputs": [],
   "source": [
    "# we will score each generated sentence from -2 to 3. overfitting is penalized!\n",
    "\n",
    "score_rubric = '''\n",
    "-2: literally a lyric\n",
    "-1: u hav overfit\n",
    " 0: perfect, beautiful\n",
    " 1: is good enough\n",
    " 2: bad\n",
    " 3: garbagé\n",
    "'''\n"
   ]
  },
  {
   "cell_type": "code",
   "execution_count": 5,
   "id": "brief-conversion",
   "metadata": {},
   "outputs": [],
   "source": [
    "data = get_train_set()\n"
   ]
  },
  {
   "cell_type": "code",
   "execution_count": 6,
   "id": "exterior-pearl",
   "metadata": {},
   "outputs": [
    {
     "name": "stdout",
     "output_type": "stream",
     "text": [
      "training models...\n",
      "\n",
      "-2: literally a lyric\n",
      "-1: u hav overfit\n",
      " 0: perfect, beautiful\n",
      " 1: is good enough\n",
      " 2: bad\n",
      " 3: garbagé\n",
      "\n",
      "(type \"quit\" to quit)\n",
      "\n",
      "one that 's a place where i do you hear all\n",
      "rate this sentence (-2 to 3): 2\n",
      "\n",
      "it must have to be afraid\n",
      "rate this sentence (-2 to 3): 1\n",
      "\n",
      "spring breaks loose , the feeling i 've got bad blood , hey , hey\n",
      "rate this sentence (-2 to 3): quit\n"
     ]
    }
   ],
   "source": [
    "kfold_score_generated_sentences(best_model_defs, data)\n"
   ]
  },
  {
   "cell_type": "code",
   "execution_count": 7,
   "id": "individual-worth",
   "metadata": {},
   "outputs": [
    {
     "data": {
      "image/png": "[encoded data removed]",
      "text/plain": [
       "<Figure size 720x504 with 6 Axes>"
      ]
     },
     "metadata": {
      "needs_background": "light"
     },
     "output_type": "display_data"
    }
   ],
   "source": [
    "# count up results and plot them \n",
    "\n",
    "plot_pandas()"
   ]
  },
  {
   "cell_type": "code",
   "execution_count": 8,
   "id": "metric-heart",
   "metadata": {},
   "outputs": [],
   "source": [
    "# top row is lidstone models, bottom row is KN models, \n",
    "# orders are 2, 3, 4 from left to right \n",
    "\n",
    "# as would be expected, the lower order gram models produce more garbagé,\n",
    "# while higher order ones tend to overfit. the trigram ones seem like a \n",
    "# good balance but there is still a large proportion of \"bad\"s which is not\n",
    "# exciting! maybe with more data in practice they will be less bad? \n",
    "\n",
    "# between the trigram lidstone vs kn-interpolated we did get a lower average\n",
    "# test entropy from the kn one, so since these sanity-check graphs are\n",
    "# roughly the same we will go with the trigram kn-interpolated model."
   ]
  },
  {
   "cell_type": "code",
   "execution_count": null,
   "id": "sustainable-tobago",
   "metadata": {},
   "outputs": [],
   "source": []
  },
  {
   "cell_type": "code",
   "execution_count": null,
   "id": "informational-baseball",
   "metadata": {},
   "outputs": [],
   "source": []
  }
 ],
 "metadata": {
  "kernelspec": {
   "display_name": "Python 3",
   "language": "python",
   "name": "python3"
  },
  "language_info": {
   "codemirror_mode": {
    "name": "ipython",
    "version": 3
   },
   "file_extension": ".py",
   "mimetype": "text/x-python",
   "name": "python",
   "nbconvert_exporter": "python",
   "pygments_lexer": "ipython3",
   "version": "3.8.6"
  }
 },
 "nbformat": 4,
 "nbformat_minor": 5
}
