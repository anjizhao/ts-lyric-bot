{
 "cells": [
  {
   "cell_type": "code",
   "execution_count": 1,
   "id": "fresh-failure",
   "metadata": {},
   "outputs": [],
   "source": [
    "# deal with jupyter crazy path issues \n",
    "import os \n",
    "os.chdir(os.environ['PYTHONPATH'])\n"
   ]
  },
  {
   "cell_type": "code",
   "execution_count": 2,
   "id": "unique-romania",
   "metadata": {},
   "outputs": [],
   "source": [
    "from code.fetch_ts_data import (\n",
    "    download_all_lyrics,\n",
    "    download_song_data, \n",
    "    filter_ts_songs, \n",
    "    read_songs_from_csv, \n",
    "    write_songs_to_csv, \n",
    ")\n"
   ]
  },
  {
   "cell_type": "code",
   "execution_count": 3,
   "id": "external-currency",
   "metadata": {},
   "outputs": [],
   "source": [
    "# # fetch new set of song data from genius api \n",
    "# all_songs = download_song_data()\n",
    "# filename_all = write_songs_to_csv(all_songs, 'all_songs')\n",
    "# print(filename_all)\n",
    "\n",
    "# or use existing data in file\n",
    "filename_all = 'data/all_songs_1615501842.csv'\n",
    "\n",
    "# read file\n",
    "all_songs = read_songs_from_csv(filename_all)"
   ]
  },
  {
   "cell_type": "code",
   "execution_count": 4,
   "id": "informational-freeware",
   "metadata": {},
   "outputs": [],
   "source": [
    "# # filter ts songs and write to file\n",
    "# ts_songs = filter_ts_songs(all_songs)\n",
    "# ts_filename = write_songs_to_csv(ts_songs, 'ts_songs')\n",
    "# print(ts_filename)\n",
    "\n",
    "# or use existing data \n",
    "filename_ts = 'data/ts_songs_1615501842.csv'\n",
    "\n",
    "# read file\n",
    "ts_songs = read_songs_from_csv(filename_ts)"
   ]
  },
  {
   "cell_type": "code",
   "execution_count": 5,
   "id": "latin-missile",
   "metadata": {},
   "outputs": [
    {
     "name": "stderr",
     "output_type": "stream",
     "text": [
      "download_all_lyrics: 100%|██████████| 168/168 [04:47<00:00,  1.71s/it]\n"
     ]
    }
   ],
   "source": [
    "# scrape genius website for each song\n",
    "download_all_lyrics(ts_songs)"
   ]
  },
  {
   "cell_type": "code",
   "execution_count": null,
   "id": "funded-powell",
   "metadata": {},
   "outputs": [],
   "source": []
  }
 ],
 "metadata": {
  "kernelspec": {
   "display_name": "Python 3",
   "language": "python",
   "name": "python3"
  },
  "language_info": {
   "codemirror_mode": {
    "name": "ipython",
    "version": 3
   },
   "file_extension": ".py",
   "mimetype": "text/x-python",
   "name": "python",
   "nbconvert_exporter": "python",
   "pygments_lexer": "ipython3",
   "version": "3.8.6"
  }
 },
 "nbformat": 4,
 "nbformat_minor": 5
}
