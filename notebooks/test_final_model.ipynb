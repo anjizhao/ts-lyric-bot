{
 "cells": [
  {
   "cell_type": "code",
   "execution_count": 1,
   "id": "reserved-bhutan",
   "metadata": {},
   "outputs": [],
   "source": [
    "import os \n",
    "os.chdir(os.environ['PYTHONPATH'])\n",
    "\n",
    "import time\n",
    "from typing import List\n",
    "\n",
    "from nltk.lm.models import KneserNeyInterpolated\n",
    "from nltk.tokenize.treebank import TreebankWordDetokenizer\n",
    "\n",
    "from code.ngrams import MyNGram\n",
    "from code.model_selection import get_test_set, get_train_set, LMDef\n",
    "\n",
    "detokenizer = TreebankWordDetokenizer()\n"
   ]
  },
  {
   "cell_type": "code",
   "execution_count": 2,
   "id": "protected-feature",
   "metadata": {},
   "outputs": [],
   "source": [
    "model_def = LMDef(KneserNeyInterpolated, [3], {'discount': 0.42})"
   ]
  },
  {
   "cell_type": "code",
   "execution_count": 3,
   "id": "neither-directory",
   "metadata": {},
   "outputs": [],
   "source": [
    "final_model = MyNGram(\n",
    "    model_def.class_(*model_def.args, **model_def.kwargs)\n",
    ")"
   ]
  },
  {
   "cell_type": "code",
   "execution_count": 4,
   "id": "abroad-fetish",
   "metadata": {},
   "outputs": [],
   "source": [
    "train_data = get_train_set()\n",
    "test_data = get_test_set()"
   ]
  },
  {
   "cell_type": "code",
   "execution_count": 5,
   "id": "opened-newsletter",
   "metadata": {},
   "outputs": [],
   "source": [
    "# fit model on training data \n",
    "final_model.train(train_data)"
   ]
  },
  {
   "cell_type": "code",
   "execution_count": 6,
   "id": "parallel-senator",
   "metadata": {},
   "outputs": [
    {
     "name": "stderr",
     "output_type": "stream",
     "text": [
      "100%|██████████| 2100/2100 [00:00<00:00, 2308.24it/s]\n"
     ]
    }
   ],
   "source": [
    "# use the fitted model to calculate the entropy of the test set \n",
    "avg_test_entropy = final_model.test_texts_avg_entropy(test_data)\n"
   ]
  },
  {
   "cell_type": "code",
   "execution_count": 7,
   "id": "julian-soviet",
   "metadata": {},
   "outputs": [
    {
     "name": "stdout",
     "output_type": "stream",
     "text": [
      "5.391192145481093\n"
     ]
    }
   ],
   "source": [
    "print(avg_test_entropy)\n"
   ]
  },
  {
   "cell_type": "code",
   "execution_count": 8,
   "id": "governmental-brick",
   "metadata": {},
   "outputs": [],
   "source": [
    "# ^ this is actually lower than the average cross-validation entropy \n",
    "# on the training set :eyes:\n"
   ]
  },
  {
   "cell_type": "code",
   "execution_count": 9,
   "id": "manual-injury",
   "metadata": {},
   "outputs": [
    {
     "name": "stdout",
     "output_type": "stream",
     "text": [
      "and now i'm stayin' at my feet\n",
      "now i see you\n",
      "i wait by the way he laughs\n",
      "i know why i don't tell you i fall down, oh, i love you\n",
      "from the precipice\n"
     ]
    }
   ],
   "source": [
    "# generate some sentences\n",
    "for i in range(5):\n",
    "    print(detokenizer.detokenize(final_model.generate(30)))"
   ]
  },
  {
   "cell_type": "code",
   "execution_count": null,
   "id": "alpine-thermal",
   "metadata": {},
   "outputs": [],
   "source": []
  },
  {
   "cell_type": "code",
   "execution_count": null,
   "id": "pregnant-george",
   "metadata": {},
   "outputs": [],
   "source": []
  }
 ],
 "metadata": {
  "kernelspec": {
   "display_name": "Python 3",
   "language": "python",
   "name": "python3"
  },
  "language_info": {
   "codemirror_mode": {
    "name": "ipython",
    "version": 3
   },
   "file_extension": ".py",
   "mimetype": "text/x-python",
   "name": "python",
   "nbconvert_exporter": "python",
   "pygments_lexer": "ipython3",
   "version": "3.8.6"
  }
 },
 "nbformat": 4,
 "nbformat_minor": 5
}
